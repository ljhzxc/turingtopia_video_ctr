{
 "cells": [
  {
   "cell_type": "code",
   "execution_count": null,
   "metadata": {},
   "outputs": [],
   "source": [
    "import pandas as pd\n",
    "import numpy as np\n",
    "import gc"
   ]
  },
  {
   "cell_type": "markdown",
   "metadata": {},
   "source": [
    "##  尝试shuffle验证集特征"
   ]
  },
  {
   "cell_type": "code",
   "execution_count": null,
   "metadata": {},
   "outputs": [],
   "source": [
    "#读取 之前提取的特征dataframe\n",
    "df = pd.read_hdf('../store/81_add_deepwalk_late_hour_exposure_change_tsgap.hdf', key='congya')"
   ]
  },
  {
   "cell_type": "code",
   "execution_count": null,
   "metadata": {},
   "outputs": [],
   "source": [
    "import joblib\n",
    "labels = joblib.load('../store/real_real_77baseline_labels.jb')\n",
    "train_num = 11376681"
   ]
  },
  {
   "cell_type": "code",
   "execution_count": null,
   "metadata": {},
   "outputs": [],
   "source": [
    "import gc\n",
    "import time\n",
    "\n",
    "#第二次运行时，做兼容\n",
    "if 'train_num' not in vars().keys() or train_num != labels.size:\n",
    "    print(\"diff reset\")\n",
    "    train_df = pd.read_csv('../data/train.csv')\n",
    "    train_num = train_df.shape[0]\n",
    "    labels = train_df['target'].values\n",
    "\n",
    "train_df = df[:train_num].reset_index(drop=True)\n",
    "test_df = df[train_num:].reset_index(drop=True)\n",
    "gc.collect()\n",
    "\n",
    "train_idx = train_df[train_df['day'] < 10].index.tolist()\n",
    "val_idx = train_df[train_df['day'] == 10].index.tolist()\n",
    "\n",
    "train_x = train_df.iloc[train_idx].reset_index(drop=True)\n",
    "train_y = labels[train_idx]\n",
    "val_x = train_df.iloc[val_idx].reset_index(drop=True)\n",
    "val_y = labels[val_idx]\n",
    "\n",
    "del train_x['day'], val_x['day'], train_df['day'], test_df['day']\n",
    "gc.collect()"
   ]
  },
  {
   "cell_type": "code",
   "execution_count": null,
   "metadata": {},
   "outputs": [],
   "source": [
    "from catboost import CatBoostClassifier\n",
    "clf = CatBoostClassifier(\n",
    "    iterations=20000,\n",
    "    learning_rate=0.08,\n",
    "    eval_metric='AUC',\n",
    "    use_best_model=True,\n",
    "    random_seed=42,\n",
    "    task_type='GPU',\n",
    "    devices='0:1',\n",
    "    early_stopping_rounds=500,\n",
    "    loss_function='Logloss',\n",
    "    depth=7,\n",
    "    verbose=100, \n",
    ")\n",
    "\n",
    "clf.fit(\n",
    "    train_x, train_y,\n",
    "    eval_set=(val_x, val_y)\n",
    ")"
   ]
  },
  {
   "cell_type": "code",
   "execution_count": null,
   "metadata": {},
   "outputs": [],
   "source": [
    "import joblib\n",
    "\n",
    "with open('../store/82172_un40_no_emb_deepwalk_remove_catboost_val_model.jb', 'wb') as file:\n",
    "    joblib.dump(clf, file)"
   ]
  },
  {
   "cell_type": "code",
   "execution_count": null,
   "metadata": {},
   "outputs": [],
   "source": [
    "del train_x, train_y, train_df, test_df\n",
    "gc.collect()"
   ]
  },
  {
   "cell_type": "code",
   "execution_count": null,
   "metadata": {},
   "outputs": [],
   "source": [
    "#训练完模型，获取基准的f1和auc\n",
    "from sklearn.metrics import roc_auc_score\n",
    "from sklearn.metrics import f1_score\n",
    "\n",
    "val_pred = clf.predict_proba(val_x)[:, 1]\n",
    "##benchmark\n",
    "std_auc = roc_auc_score(val_y, val_pred)\n",
    "std_f1 = 0\n",
    "\n",
    "#选取前11%\n",
    "#std_threshold = sorted(val_pred, reverse=True)[int(len(val_pred)*0.11)]\n",
    "std_threshold = sorted(val_pred, reverse=True)[int(len(val_pred)*0.106)] #TO re run\n",
    "y = [1 if x >= std_threshold else 0 for x in val_pred]\n",
    "std_f1 = max(std_f1, f1_score(val_y, y))\n",
    "\n",
    "print(std_auc, std_f1)"
   ]
  },
  {
   "cell_type": "code",
   "execution_count": null,
   "metadata": {},
   "outputs": [],
   "source": [
    "import multiprocessing\n",
    "\n",
    "# 创建Manger对象用于管理进程间通信\n",
    "manager = multiprocessing.Manager()\n",
    "remove_auc_dict = manager.dict()"
   ]
  },
  {
   "cell_type": "code",
   "execution_count": null,
   "metadata": {
    "scrolled": true
   },
   "outputs": [],
   "source": [
    "import time\n",
    "import functools\n",
    "from sklearn.utils import shuffle\n",
    "\n",
    "def get_auc_f1(index, mod, aim_dict, lock):\n",
    "    for i in range(index, val_x.shape[1], mod):\n",
    "        col = val_x.columns[i]\n",
    "        if col in aim_dict.keys():\n",
    "            continue\n",
    "        print(f'Thread {index}: {col}')\n",
    "        tmp = val_x[col].copy()\n",
    "        auc_arr = []\n",
    "        f1_arr = []\n",
    "        \n",
    "        for fold in range(3):\n",
    "            #如果该特征很重要，那么随机之后auc指标应该会下降很多\n",
    "            val_x[col] = shuffle(tmp, random_state= fold+101).reset_index(drop=True)\n",
    "            val_pred = clf.predict_proba(val_x)[:, 1]\n",
    "            cur_f1 = 0\n",
    "            std_threshold = sorted(val_pred, reverse=True)[int(len(val_pred)*0.106)]\n",
    "            y = [1 if x >= std_threshold else 0 for x in val_pred]\n",
    "            cur_f1 = max(cur_f1, f1_score(val_y, y))\n",
    "            auc_arr.append(roc_auc_score(val_y, val_pred))\n",
    "            f1_arr.append(cur_f1)\n",
    "        fold_mean_auc = np.mean(auc_arr)\n",
    "        fold_mean_f1 = np.mean(f1_arr)\n",
    "        \n",
    "        lock.acquire()\n",
    "        aim_dict[col] = (fold_mean_auc, fold_mean_f1)\n",
    "        lock.release()\n",
    "        \n",
    "        print(f'remove:%s, mean_auc:%.6f(%.6f), mean_f1:%.6f(%.6f)'%(col, fold_mean_auc, fold_mean_auc-std_auc, fold_mean_f1, fold_mean_f1-std_f1))\n",
    "        val_x[col] = tmp\n",
    "\n",
    "        \n",
    "n_jobs = 16\n",
    "pool = multiprocessing.Pool(processes=n_jobs)\n",
    "\n",
    "# 使用 Manager 生成锁\n",
    "LOCK = manager.Lock()\n",
    "\n",
    "for i in range(n_jobs):\n",
    "    pool.apply_async(get_auc_f1,(i,n_jobs,remove_auc_dict,LOCK,))\n",
    "    \n",
    "pool.close()\n",
    "pool.join()\n",
    "\n",
    "\n",
    "print(\"Sub-process(es) done.\")"
   ]
  },
  {
   "cell_type": "code",
   "execution_count": null,
   "metadata": {},
   "outputs": [],
   "source": [
    "len(remove_auc_dict.keys())"
   ]
  },
  {
   "cell_type": "code",
   "execution_count": null,
   "metadata": {},
   "outputs": [],
   "source": [
    "remove_auc_dict = dict(remove_auc_dict)"
   ]
  },
  {
   "cell_type": "code",
   "execution_count": null,
   "metadata": {},
   "outputs": [],
   "source": [
    "import joblib\n",
    "#0.9811823481494082 \n",
    "#0.8053919672154637\n",
    "with open('../store/82172_un40_no_emb_deepwalk_remove_auc_dict.jb', 'wb') as file:\n",
    "    joblib.dump(remove_auc_dict, file)"
   ]
  },
  {
   "cell_type": "code",
   "execution_count": null,
   "metadata": {},
   "outputs": [],
   "source": [
    "if 'std_f1' not in vars().keys():\n",
    "    std_f1 = 0.9811823481494082\n",
    "if 'std_auc' not in vars().keys():\n",
    "    std_auc = 0.8053919672154637\n",
    "    \n",
    "f1_dict = {}\n",
    "auc_dict = {}\n",
    "for item in remove_auc_dict.items():\n",
    "    f1_dict[item[0]] = item[1][1] - std_f1\n",
    "    auc_dict[item[0]] = item[1][0] - std_auc"
   ]
  },
  {
   "cell_type": "code",
   "execution_count": null,
   "metadata": {},
   "outputs": [],
   "source": [
    "sorted(f1_dict.items(), key=lambda x:x[1])"
   ]
  },
  {
   "cell_type": "code",
   "execution_count": null,
   "metadata": {
    "scrolled": true
   },
   "outputs": [],
   "source": [
    "sorted(auc_dict.items(), key=lambda x:x[1])"
   ]
  },
  {
   "cell_type": "code",
   "execution_count": null,
   "metadata": {
    "scrolled": true
   },
   "outputs": [],
   "source": [
    "#根据auc下降值排序，得到最不重要的特征\n",
    "print(list(np.array(sorted(auc_dict.items(), key=lambda x:x[1]))[-50:,0]))"
   ]
  },
  {
   "cell_type": "code",
   "execution_count": null,
   "metadata": {},
   "outputs": [],
   "source": [
    "#根据f1下降值排序，得到最不重要的特征\n",
    "print(list(np.array(sorted(f1_dict.items(), key=lambda x:x[1]))[-50:,0]))"
   ]
  },
  {
   "cell_type": "code",
   "execution_count": null,
   "metadata": {},
   "outputs": [],
   "source": [
    "top_num = 50\n",
    "weak_feat_set = set(np.array(sorted(auc_dict.items(), key=lambda x:x[1]))[-1*top_num:,0]) & set(np.array(sorted(f1_dict.items(), key=lambda x:x[1]))[-1*top_num:,0])\n",
    "\n",
    "print(len(weak_feat_set))\n",
    "print(weak_feat_set)"
   ]
  },
  {
   "cell_type": "code",
   "execution_count": null,
   "metadata": {},
   "outputs": [],
   "source": [
    "#auc\n",
    "auc_arr = []\n",
    "for feat in target_mean_feats:\n",
    "    auc_arr.append((feat, auc_dict[feat]))\n",
    "\n",
    "for k,v in sorted(auc_arr, key=lambda x:x[1]):\n",
    "    print(f'{k}\\t{v}')"
   ]
  },
  {
   "cell_type": "code",
   "execution_count": null,
   "metadata": {},
   "outputs": [],
   "source": [
    "#f1\n",
    "f1_arr = []\n",
    "for feat in target_mean_feats:\n",
    "    f1_arr.append((feat, f1_dict[feat]))\n",
    "\n",
    "for k,v in sorted(f1_arr, key=lambda x:x[1]):\n",
    "    print(f'{k}\\t{v}')"
   ]
  }
 ],
 "metadata": {
  "kernelspec": {
   "display_name": "Python 3",
   "language": "python",
   "name": "python3"
  },
  "language_info": {
   "codemirror_mode": {
    "name": "ipython",
    "version": 3
   },
   "file_extension": ".py",
   "mimetype": "text/x-python",
   "name": "python",
   "nbconvert_exporter": "python",
   "pygments_lexer": "ipython3",
   "version": "3.7.4"
  },
  "toc": {
   "base_numbering": 1,
   "nav_menu": {},
   "number_sections": true,
   "sideBar": true,
   "skip_h1_title": false,
   "title_cell": "Table of Contents",
   "title_sidebar": "Contents",
   "toc_cell": false,
   "toc_position": {},
   "toc_section_display": true,
   "toc_window_display": false
  }
 },
 "nbformat": 4,
 "nbformat_minor": 2
}