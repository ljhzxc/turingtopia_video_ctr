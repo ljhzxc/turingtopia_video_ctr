{
 "cells": [
  {
   "cell_type": "code",
   "execution_count": 1,
   "metadata": {},
   "outputs": [],
   "source": [
    "from sklearn.linear_model import LinearRegression\n",
    "import pandas as pd\n",
    "import numpy as np\n",
    "import joblib\n",
    "import gc"
   ]
  },
  {
   "cell_type": "code",
   "execution_count": 2,
   "metadata": {},
   "outputs": [
    {
     "name": "stdout",
     "output_type": "stream",
     "text": [
      "82172_remove_common32_test_prob.jb \u001b[31mmodel1_val.csv\u001b[m\u001b[m\r\n",
      "82172_remove_common32_val_prob.jb  \u001b[31mmodel2_test.csv\u001b[m\u001b[m\r\n",
      "\u001b[31m82463_test_pred_prob.csv\u001b[m\u001b[m           \u001b[31mmodel2_val.csv\u001b[m\u001b[m\r\n",
      "\u001b[31m82463_val_pred_prob.csv\u001b[m\u001b[m            val_real_label.jb\r\n",
      "\u001b[31mmodel1_test.csv\u001b[m\u001b[m\r\n"
     ]
    }
   ],
   "source": [
    "!ls source"
   ]
  },
  {
   "cell_type": "code",
   "execution_count": 4,
   "metadata": {},
   "outputs": [
    {
     "data": {
      "text/plain": [
       "34"
      ]
     },
     "execution_count": 4,
     "metadata": {},
     "output_type": "execute_result"
    }
   ],
   "source": [
    "t=pd.read_csv('source/model1_val.csv',header=None)\n",
    "val_prob1 = t[1].values\n",
    "t=pd.read_csv('source/model2_val.csv',header=None)\n",
    "val_prob2 = t[1].values\n",
    "\n",
    "del t\n",
    "gc.collect()"
   ]
  },
  {
   "cell_type": "code",
   "execution_count": 7,
   "metadata": {},
   "outputs": [],
   "source": [
    "val_x = np.array(list(zip(val_prob1, val_prob2)))\n",
    "val_label = joblib.load('source/val_real_label.jb')"
   ]
  },
  {
   "cell_type": "code",
   "execution_count": 8,
   "metadata": {},
   "outputs": [
    {
     "data": {
      "text/plain": [
       "LinearRegression(copy_X=True, fit_intercept=True, n_jobs=None,\n",
       "         normalize=False)"
      ]
     },
     "execution_count": 8,
     "metadata": {},
     "output_type": "execute_result"
    }
   ],
   "source": [
    "lr = LinearRegression()\n",
    "lr.fit(val_x, val_label)"
   ]
  },
  {
   "cell_type": "code",
   "execution_count": 9,
   "metadata": {
    "scrolled": true
   },
   "outputs": [
    {
     "data": {
      "text/plain": [
       "array([0.48391238, 0.52959348])"
      ]
     },
     "execution_count": 9,
     "metadata": {},
     "output_type": "execute_result"
    }
   ],
   "source": [
    "lr.coef_"
   ]
  },
  {
   "cell_type": "code",
   "execution_count": 10,
   "metadata": {},
   "outputs": [],
   "source": [
    "val_merge_prob = lr.coef_[0] * val_prob1 + lr.coef_[1] * val_prob2"
   ]
  },
  {
   "cell_type": "code",
   "execution_count": 11,
   "metadata": {},
   "outputs": [
    {
     "name": "stdout",
     "output_type": "stream",
     "text": [
      "=============================================== threshold search ===============================================\n",
      "step: 160   best threshold: 0.37   best f1: 0.8141228344691326   mean: 0.11077613072302961\n",
      "step: 161   best threshold: 0.372   best f1: 0.8141997612955038   mean: 0.11054344385159681\n",
      "step: 162   best threshold: 0.374   best f1: 0.8142772220687977   mean: 0.11031934694067293\n",
      "step: 163   best threshold: 0.376   best f1: 0.8143304771554577   mean: 0.11010232411487404\n",
      "step: 164   best threshold: 0.378   best f1: 0.8143443785955341   mean: 0.10987216370241445\n",
      "step: 165   best threshold: 0.38   best f1: 0.8144696945685822   mean: 0.10964048741457094\n",
      "step: 166   best threshold: 0.382   best f1: 0.814502321438434   mean: 0.10941411669057118\n",
      "step: 167   best threshold: 0.384   best f1: 0.8145147441100017   mean: 0.10920922086784371\n",
      "step: 168   best threshold: 0.386   best f1: 0.8145409589968505   mean: 0.10899573508460732\n",
      "step: 169   best threshold: 0.388   best f1: 0.8145992593587867   mean: 0.10877568050804058\n",
      "search finish.\n"
     ]
    }
   ],
   "source": [
    "#获取阈值\n",
    "from sklearn.metrics import f1_score\n",
    "print('=============================================== threshold search ===============================================')\n",
    "# f1阈值敏感，所以对阈值做一个简单的迭代搜索\n",
    "t0 = 0.05\n",
    "v = 0.002\n",
    "best_t = t0\n",
    "best_f1 = 0\n",
    "\n",
    "#为了快一点，缩小了范围，历史经验是在160+的时候最优\n",
    "for step in range(160,191):\n",
    "#for step in range(140,250,3):\n",
    "    curr_t = t0 + step * v\n",
    "    y = [1 if x >= curr_t else 0 for x in val_merge_prob]\n",
    "    curr_f1 = f1_score(val_label, y)\n",
    "    \n",
    "    if curr_f1 > best_f1:\n",
    "        best_t = curr_t\n",
    "        best_f1 = curr_f1\n",
    "        print('step: {}   best threshold: {}   best f1: {}   mean: {}'.format(step, best_t, best_f1, np.mean(y)))\n",
    "print('search finish.')"
   ]
  },
  {
   "cell_type": "code",
   "execution_count": 12,
   "metadata": {},
   "outputs": [
    {
     "name": "stdout",
     "output_type": "stream",
     "text": [
      "0.10877568050804058\n"
     ]
    }
   ],
   "source": [
    "ratio = np.mean([1 if x >= best_t else 0 for x in val_merge_prob])\n",
    "print(ratio)"
   ]
  },
  {
   "cell_type": "code",
   "execution_count": 14,
   "metadata": {},
   "outputs": [],
   "source": [
    "test_prob1 = pd.read_csv('source/model1_test.csv')\n",
    "test_prob1 = test_prob1['target'].values"
   ]
  },
  {
   "cell_type": "code",
   "execution_count": 15,
   "metadata": {},
   "outputs": [],
   "source": [
    "#test_prob2 = joblib.load('source/82172_remove_common32_test_prob.jb')\n",
    "test_prob2 = pd.read_csv('source/model2_test.csv')\n",
    "test_prob2 = test_prob2['target'].values"
   ]
  },
  {
   "cell_type": "code",
   "execution_count": 16,
   "metadata": {},
   "outputs": [],
   "source": [
    "test_merged_prob = lr.coef_[0] * test_prob1 + lr.coef_[1] * test_prob2"
   ]
  },
  {
   "cell_type": "code",
   "execution_count": 17,
   "metadata": {},
   "outputs": [
    {
     "data": {
      "text/plain": [
       "array([0.00137589, 0.09207078, 0.00026769, ..., 0.00016628, 0.00031076,\n",
       "       0.00105396])"
      ]
     },
     "execution_count": 17,
     "metadata": {},
     "output_type": "execute_result"
    }
   ],
   "source": [
    "test_merged_prob"
   ]
  },
  {
   "cell_type": "code",
   "execution_count": 18,
   "metadata": {},
   "outputs": [],
   "source": [
    "#取验证集最好的阈值\n",
    "test_y = [1 if x >= best_t else 0 for x in test_merged_prob]"
   ]
  },
  {
   "cell_type": "code",
   "execution_count": 23,
   "metadata": {},
   "outputs": [
    {
     "name": "stdout",
     "output_type": "stream",
     "text": [
      "0.404742224908895\n"
     ]
    }
   ],
   "source": [
    "#取验证集最好的阈值 对应的百分比\n",
    "threshold = sorted(test_merged_prob)[int((1-ratio) * len(test_merged_prob))]\n",
    "test_y = [1 if x >= threshold else 0 for x in test_merged_prob]\n",
    "\n",
    "print(threshold)"
   ]
  },
  {
   "cell_type": "code",
   "execution_count": 24,
   "metadata": {},
   "outputs": [
    {
     "data": {
      "text/plain": [
       "0.10877569252395998"
      ]
     },
     "execution_count": 24,
     "metadata": {},
     "output_type": "execute_result"
    }
   ],
   "source": [
    "np.mean(test_y)"
   ]
  },
  {
   "cell_type": "code",
   "execution_count": 25,
   "metadata": {},
   "outputs": [
    {
     "name": "stdout",
     "output_type": "stream",
     "text": [
      "3653592\n"
     ]
    }
   ],
   "source": [
    "test_num = len(test_y)\n",
    "print(test_num)"
   ]
  },
  {
   "cell_type": "code",
   "execution_count": 26,
   "metadata": {},
   "outputs": [],
   "source": [
    "ids = []\n",
    "for i in range(test_num):\n",
    "    ids.append(f'test_{i+1}')\n",
    "sub = pd.DataFrame({'id': ids, 'target': test_y})"
   ]
  },
  {
   "cell_type": "code",
   "execution_count": 27,
   "metadata": {},
   "outputs": [],
   "source": [
    "sub.to_csv('sub/merge_8246_0.483_8244_0.529_threshold_0.404.csv', index=False)"
   ]
  },
  {
   "cell_type": "code",
   "execution_count": null,
   "metadata": {},
   "outputs": [],
   "source": [
    "#取算术平均\n",
    "test_merged_prob = (test_prob1 + test_prob2)/2\n",
    "ratio = 0.109\n",
    "threshold = sorted(test_merged_prob)[int((1-ratio) * len(test_merged_prob))]\n",
    "test_y = [1 if x >= threshold else 0 for x in test_merged_prob]\n",
    "print(threshold)"
   ]
  }
 ],
 "metadata": {
  "kernelspec": {
   "display_name": "Python 3",
   "language": "python",
   "name": "python3"
  },
  "language_info": {
   "codemirror_mode": {
    "name": "ipython",
    "version": 3
   },
   "file_extension": ".py",
   "mimetype": "text/x-python",
   "name": "python",
   "nbconvert_exporter": "python",
   "pygments_lexer": "ipython3",
   "version": "3.7.3"
  }
 },
 "nbformat": 4,
 "nbformat_minor": 2
}